{
 "cells": [
  {
   "cell_type": "markdown",
   "metadata": {},
   "source": [
    "# Unlocking Langchain Framework"
   ]
  },
  {
   "cell_type": "code",
   "execution_count": 1,
   "metadata": {},
   "outputs": [],
   "source": [
    "from RestaurantNameGenerator.secret_key import openapi_key\n",
    "import os\n",
    "os.environ['OPENAI_API_KEY'] = openapi_key"
   ]
  },
  {
   "cell_type": "markdown",
   "metadata": {},
   "source": [
    "# LLM Practice"
   ]
  },
  {
   "cell_type": "code",
   "execution_count": 2,
   "metadata": {},
   "outputs": [],
   "source": [
    "from langchain.llms import OpenAI"
   ]
  },
  {
   "cell_type": "code",
   "execution_count": 3,
   "metadata": {},
   "outputs": [
    {
     "name": "stdout",
     "output_type": "stream",
     "text": [
      "\n",
      "\n",
      "Birmingham.\n"
     ]
    }
   ],
   "source": [
    "llm = OpenAI(temperature=0.7)\n",
    "city_name = llm.predict(\"I want to open a Indian restaurant in UK, give me only the best city name for that.\")\n",
    "print(city_name)"
   ]
  },
  {
   "cell_type": "code",
   "execution_count": 4,
   "metadata": {},
   "outputs": [
    {
     "data": {
      "text/plain": [
       "'\\n\\nSan Francisco, California.'"
      ]
     },
     "execution_count": 4,
     "metadata": {},
     "output_type": "execute_result"
    }
   ],
   "source": [
    "llm(\"I want to open a Turkish restaurant in US, give me only the best city name for that.\")"
   ]
  },
  {
   "cell_type": "markdown",
   "metadata": {},
   "source": [
    "# Prompt Templates"
   ]
  },
  {
   "cell_type": "code",
   "execution_count": 6,
   "metadata": {},
   "outputs": [
    {
     "name": "stdout",
     "output_type": "stream",
     "text": [
      "prompt: I want to open a Arabic restaurant in UK, give me only one city name for that.\n",
      "\n",
      "\n",
      "Birmingham\n"
     ]
    }
   ],
   "source": [
    "from langchain.prompts import PromptTemplate\n",
    "\n",
    "prompt_template_name = PromptTemplate(\n",
    "    input_variables = ['culture', 'location'],\n",
    "    template = \"I want to open a {culture} restaurant in {location}, give me only one city name for that.\"\n",
    ")\n",
    "prompt = prompt_template_name.format(culture=\"Arabic\", location=\"UK\")\n",
    "print(\"prompt:\",prompt)\n",
    "print(llm.predict(prompt))"
   ]
  },
  {
   "cell_type": "markdown",
   "metadata": {},
   "source": [
    "# Chains"
   ]
  },
  {
   "cell_type": "code",
   "execution_count": 7,
   "metadata": {},
   "outputs": [
    {
     "data": {
      "text/plain": [
       "'\\n\\nIstanbul.'"
      ]
     },
     "execution_count": 7,
     "metadata": {},
     "output_type": "execute_result"
    }
   ],
   "source": [
    "from langchain.chains import LLMChain\n",
    "\n",
    "chain = LLMChain(llm=llm, prompt=prompt_template_name)\n",
    "chain.run(culture=\"Arabic\", location=\"Turkey\")"
   ]
  },
  {
   "cell_type": "code",
   "execution_count": 8,
   "metadata": {},
   "outputs": [
    {
     "name": "stdout",
     "output_type": "stream",
     "text": [
      "\n",
      "\n",
      "\u001b[1m> Entering new LLMChain chain...\u001b[0m\n",
      "Prompt after formatting:\n",
      "\u001b[32;1m\u001b[1;3mI want to open a Mexican restaurant in Italy, give me only one city name for that.\u001b[0m\n",
      "\n",
      "\u001b[1m> Finished chain.\u001b[0m\n"
     ]
    },
    {
     "data": {
      "text/plain": [
       "'\\n\\nRome.'"
      ]
     },
     "execution_count": 8,
     "metadata": {},
     "output_type": "execute_result"
    }
   ],
   "source": [
    "chain = LLMChain(llm=llm, prompt=prompt_template_name, verbose=True)\n",
    "chain.run(culture=\"Mexican\", location=\"Italy\")"
   ]
  },
  {
   "cell_type": "code",
   "execution_count": 11,
   "metadata": {},
   "outputs": [],
   "source": [
    "llm = OpenAI(temperature=0.7)\n",
    "\n",
    "prompt_template_name = PromptTemplate(\n",
    "    input_variables = ['location'],\n",
    "    template = \"I want to open a Turkish restaurant in {location}, give me only the best city name for that.\"\n",
    ")\n",
    "name_chain = LLMChain(llm=llm, prompt=prompt_template_name)\n",
    "\n",
    "prompt_template_items = PromptTemplate(\n",
    "    input_variables = ['restaurant_name'],\n",
    "    template=\"\"\"Suggest some menu items for {restaurant_name}\"\"\"\n",
    ")\n",
    "food_items_chain = LLMChain(llm=llm, prompt=prompt_template_items)"
   ]
  },
  {
   "cell_type": "code",
   "execution_count": 12,
   "metadata": {},
   "outputs": [
    {
     "data": {
      "text/plain": [
       "'\\n\\n-Hamburger\\n-Cheeseburger\\n-Veggie Burger\\n-Fried Onion Rings\\n-French Fries\\n-Fried Fish Sandwich\\n-Grilled Chicken Sandwich\\n-Hot Dog\\n-Bratwurst\\n-Salad\\n-Baked Potato\\n-Onion Soup\\n-Chili'"
      ]
     },
     "execution_count": 12,
     "metadata": {},
     "output_type": "execute_result"
    }
   ],
   "source": [
    "from langchain.chains import SimpleSequentialChain\n",
    "chain = SimpleSequentialChain(chains=[name_chain, food_items_chain])\n",
    "\n",
    "content = chain.run(\"Germany\")\n",
    "content"
   ]
  },
  {
   "cell_type": "markdown",
   "metadata": {},
   "source": [
    "#### Sequential Chain"
   ]
  },
  {
   "cell_type": "code",
   "execution_count": 33,
   "metadata": {},
   "outputs": [],
   "source": [
    "llm = OpenAI(temperature=0.7)\n",
    "\n",
    "prompt_template_city_name = PromptTemplate(\n",
    "    input_variables = ['culture', 'location'],\n",
    "    template = \"I want to open a {culture} restaurant in {location}, Suggest a fancy city for this.\"\n",
    ")\n",
    "\n",
    "city_name_chain = LLMChain(llm=llm, prompt=prompt_template_city_name, output_key=\"city_name\")"
   ]
  },
  {
   "cell_type": "code",
   "execution_count": 34,
   "metadata": {},
   "outputs": [],
   "source": [
    "llm = OpenAI(temperature=0.7)\n",
    "\n",
    "prompt_template_res_name = PromptTemplate(\n",
    "    input_variables = ['city_name'],\n",
    "    template = \"Suggest a restaurant name in {city_name}.\"\n",
    ")\n",
    "\n",
    "retaurant_name_chain = LLMChain(llm=llm, prompt=prompt_template_res_name, output_key=\"restaurant_name\")"
   ]
  },
  {
   "cell_type": "code",
   "execution_count": 35,
   "metadata": {},
   "outputs": [],
   "source": [
    "llm = OpenAI(temperature=0.7)\n",
    "\n",
    "prompt_template_menu_items = PromptTemplate(\n",
    "    input_variables = ['restaurant_name'],\n",
    "    template=\"Suggest some menu items for {restaurant_name}.\"\n",
    ")\n",
    "\n",
    "food_items_chain =LLMChain(llm=llm, prompt=prompt_template_menu_items, output_key=\"menu_items\")"
   ]
  },
  {
   "cell_type": "code",
   "execution_count": 36,
   "metadata": {},
   "outputs": [],
   "source": [
    "from langchain.chains import SequentialChain\n",
    "\n",
    "chain = SequentialChain(\n",
    "    chains = [city_name_chain, retaurant_name_chain, food_items_chain],\n",
    "    input_variables = ['culture', 'location'],\n",
    "    output_variables = ['city_name', 'restaurant_name', \"menu_items\"]\n",
    ")"
   ]
  },
  {
   "cell_type": "code",
   "execution_count": 37,
   "metadata": {},
   "outputs": [
    {
     "data": {
      "text/plain": [
       "{'culture': 'Indian',\n",
       " 'location': 'Norway',\n",
       " 'city_name': '\\n\\nBergen is a great choice for opening an Indian restaurant in Norway. With a population of over 270,000, it is the second largest city in Norway and is a popular tourist destination. It is known for its beautiful coastal scenery, its vibrant cultural life, and its thriving culinary scene. It has a vibrant international community, with a wide variety of ethnic restaurants, and would be a great place to open an Indian restaurant.',\n",
       " 'restaurant_name': '\\n\\nWe suggest the name \"Tandoori Temptations\" for an Indian restaurant in Bergen, Norway.',\n",
       " 'menu_items': '\\n\\nTandoori Temptations Menu\\n\\nAppetizers\\n\\n• Vegetable Samosas\\n• Paneer Tikka\\n• Tandoori Chicken\\n• Onion Bhaji\\n• Aloo Tikki\\n\\nMain Courses\\n\\n• Butter Chicken\\n• Palak Paneer\\n• Lamb Rogan Josh\\n• Chana Masala\\n• Biryani\\n\\nAccompaniments\\n\\n• Naan Bread\\n• Raita\\n• Fried Onion\\n• Cucumber Salad\\n• Mango Chutney\\n\\nDesserts\\n\\n• Gulab Jamun\\n• Kulfi\\n• Rasmalai\\n• Carrot Halwa\\n• Kheer'}"
      ]
     },
     "execution_count": 37,
     "metadata": {},
     "output_type": "execute_result"
    }
   ],
   "source": [
    "chain({\"culture\": \"Indian\", \"location\":\"Norway\"})"
   ]
  },
  {
   "cell_type": "markdown",
   "metadata": {},
   "source": [
    "## Agents"
   ]
  },
  {
   "cell_type": "code",
   "execution_count": null,
   "metadata": {},
   "outputs": [],
   "source": [
    "# make sure yoy have installed this package: pip install google-search-results\n",
    "# from secret_key import serpapi_key\n",
    "# os.environ['SERPAPI_API_KEY'] = serpapi_key\n",
    "\n",
    "os.environ['SERPAPI_API_KEY'] = \"add your serpapi key here\""
   ]
  }
 ],
 "metadata": {
  "kernelspec": {
   "display_name": "llm_app_env",
   "language": "python",
   "name": "python3"
  },
  "language_info": {
   "codemirror_mode": {
    "name": "ipython",
    "version": 3
   },
   "file_extension": ".py",
   "mimetype": "text/x-python",
   "name": "python",
   "nbconvert_exporter": "python",
   "pygments_lexer": "ipython3",
   "version": "3.10.13"
  }
 },
 "nbformat": 4,
 "nbformat_minor": 2
}
