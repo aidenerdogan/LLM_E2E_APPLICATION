{
 "cells": [
  {
   "attachments": {},
   "cell_type": "markdown",
   "metadata": {},
   "source": [
    "# Guidelines for Prompting\n",
    "In this lesson, you'll practice two prompting principles and their related tactics in order to write effective prompts for large language models.\n",
    "\n",
    "## Setup\n",
    "#### Load the API key and relevant Python libaries."
   ]
  },
  {
   "attachments": {},
   "cell_type": "markdown",
   "metadata": {},
   "source": [
    "In this course, we've provided some code that loads the OpenAI API key for you."
   ]
  },
  {
   "cell_type": "code",
   "execution_count": 3,
   "metadata": {},
   "outputs": [],
   "source": [
    "import openai\n",
    "import os\n",
    "\n",
    "from dotenv import load_dotenv, find_dotenv\n",
    "_ = load_dotenv(find_dotenv())\n",
    "\n",
    "openai.api_key  = os.getenv('OPENAI_API_KEY')"
   ]
  },
  {
   "attachments": {},
   "cell_type": "markdown",
   "metadata": {},
   "source": [
    "#### helper function\n",
    "Throughout this course, we will use OpenAI's `gpt-3.5-turbo` model and the [chat completions endpoint](https://platform.openai.com/docs/guides/chat). \n",
    "\n",
    "This helper function will make it easier to use prompts and look at the generated outputs:"
   ]
  },
  {
   "cell_type": "code",
   "execution_count": 6,
   "metadata": {},
   "outputs": [],
   "source": [
    "def get_completion(prompt, model=\"gpt-3.5-turbo\"):\n",
    "    messages = [{\"role\": \"user\", \"content\": prompt}]\n",
    "    response = openai.ChatCompletion.create(\n",
    "        model=model,\n",
    "        messages=messages,\n",
    "        temperature=0, # this is the degree of randomness of the model's output\n",
    "    )\n",
    "    return response.choices[0].message[\"content\"]"
   ]
  },
  {
   "attachments": {},
   "cell_type": "markdown",
   "metadata": {},
   "source": [
    "## Prompting Principles\n",
    "- **Principle 1: Write clear and specific instructions**\n",
    "- **Principle 2: Give the model time to “think”**\n",
    "\n",
    "### Tactics\n",
    "\n",
    "#### Tactic 1: Use delimiters to clearly indicate distinct parts of the input\n",
    "- Delimiters can be anything like: ```, \"\"\", < >, `<tag> </tag>`, `:`"
   ]
  },
  {
   "cell_type": "code",
   "execution_count": 8,
   "metadata": {},
   "outputs": [
    {
     "name": "stdout",
     "output_type": "stream",
     "text": [
      "Clear and specific instructions should be provided to guide a model towards the desired output, and longer prompts can provide more clarity and context for the model, leading to more detailed and relevant outputs.\n"
     ]
    }
   ],
   "source": [
    "text = f\"\"\"\n",
    "You should express what you want a model to do by \\ \n",
    "providing instructions that are as clear and \\ \n",
    "specific as you can possibly make them. \\ \n",
    "This will guide the model towards the desired output, \\ \n",
    "and reduce the chances of receiving irrelevant \\ \n",
    "or incorrect responses. Don't confuse writing a \\ \n",
    "clear prompt with writing a short prompt. \\ \n",
    "In many cases, longer prompts provide more clarity \\ \n",
    "and context for the model, which can lead to \\ \n",
    "more detailed and relevant outputs.\n",
    "\"\"\"\n",
    "prompt = f\"\"\"\n",
    "Summarize the text delimited by triple backticks \\ \n",
    "into a single sentence.\n",
    "```{text}```\n",
    "\"\"\"\n",
    "response = get_completion(prompt)\n",
    "print(response)"
   ]
  },
  {
   "attachments": {},
   "cell_type": "markdown",
   "metadata": {},
   "source": [
    "#### Tactic 2: Ask for a structured output\n",
    "- JSON, HTML"
   ]
  },
  {
   "cell_type": "code",
   "execution_count": 9,
   "metadata": {},
   "outputs": [
    {
     "name": "stdout",
     "output_type": "stream",
     "text": [
      "[\n",
      "  {\n",
      "    \"book_id\": 1,\n",
      "    \"title\": \"The Lost City of Zorath\",\n",
      "    \"author\": \"Aria Blackwood\",\n",
      "    \"genre\": \"Fantasy\"\n",
      "  },\n",
      "  {\n",
      "    \"book_id\": 2,\n",
      "    \"title\": \"The Last Survivors\",\n",
      "    \"author\": \"Ethan Stone\",\n",
      "    \"genre\": \"Science Fiction\"\n",
      "  },\n",
      "  {\n",
      "    \"book_id\": 3,\n",
      "    \"title\": \"The Secret of the Haunted Mansion\",\n",
      "    \"author\": \"Lila Rose\",\n",
      "    \"genre\": \"Mystery\"\n",
      "  }\n",
      "]\n"
     ]
    }
   ],
   "source": [
    "prompt = f\"\"\"\n",
    "Generate a list of three made-up book titles along \\ \n",
    "with their authors and genres. \n",
    "Provide them in JSON format with the following keys: \n",
    "book_id, title, author, genre.\n",
    "\"\"\"\n",
    "response = get_completion(prompt)\n",
    "print(response)"
   ]
  },
  {
   "cell_type": "code",
   "execution_count": 13,
   "metadata": {},
   "outputs": [],
   "source": [
    "samsung_el_desc = f\"\"\"\n",
    "Samsung Electronics is a global leader in technology, opening new possibilities for people everywhere. Through relentless innovation and discovery, we are transforming the worlds of TVs, smartphones, wearable devices, tablets, digital appliances, network systems, medical devices, semiconductors and LED solutions. Samsung is also leading in the Internet of Things space through, among others, our Smart Home and Digital Health initiatives. \n",
    "\n",
    "Since being established in 1969, Samsung Electronics has grown into one of the world’s leading technology companies, and become recognized as one of the top 10 global brands. Our network now extends across the world, and Samsung takes great pride in the creativity and diversity of its talented people, who drive our growth.  To discover more, please visit our website at www.samsung.com and our official newsroom at news.samsung.com\"\"\""
   ]
  },
  {
   "cell_type": "code",
   "execution_count": 14,
   "metadata": {},
   "outputs": [],
   "source": [
    "text_nike_desc =f\"\"\"\n",
    "NIKE, Inc., named for the Greek goddess of victory, is the world's leading designer, marketer, and distributor of authentic athletic footwear, apparel, equipment, and accessories for a wide variety of sports and fitness activities. \n",
    "\n",
    "Operating segments for the Nike brand are: North America, Europe, Middle East and Africa, Greater China, Asia Pacific and Latin America. Wholly-owned subsidiaries include Converse Inc., which designs, markets, and distributes casual footwear, apparel and accessories. The company was founded by Bill Bowerman and Phil Knight in 1972 and is headquartered in Beaverton, Oregon. \n",
    "\n",
    "For more information, visit our company site at www.nike.com or our career site at jobs.nike.com.\"\"\""
   ]
  },
  {
   "cell_type": "code",
   "execution_count": 15,
   "metadata": {},
   "outputs": [],
   "source": [
    "samsung_el_usa_desc = f\"\"\"For over 70 years, Samsung has been dedicated to making a better world through diverse businesses that today span advanced technology, semiconductors, skyscraper and plant construction, petrochemicals, fashion, medicine, finance, hotels, and more. Our flagship company, Samsung Electronics, leads the global market in high-tech electronics manufacturing and digital media.\n",
    "\n",
    "Through innovative, reliable products and services; talented people; a responsible approach to business and global citizenship; and collaboration with our partners and customers, Samsung is taking the world in imaginative new directions\"\"\""
   ]
  },
  {
   "cell_type": "code",
   "execution_count": 18,
   "metadata": {},
   "outputs": [
    {
     "name": "stdout",
     "output_type": "stream",
     "text": [
      "1. [0.032, -0.012, -0.012, -0.012, -0.012, -0.012, -0.012, -0.012, -0.012, -0.012, -0.012, -0.012, -0.012, -0.012, -0.012, -0.012, -0.012, -0.012, -0.012, -0.012]\n",
      "2. [-0.012, -0.032, -0.012, -0.012, -0.012, -0.012, -0.012, -0.012, -0.012, -0.012, -0.012, -0.012, -0.012, -0.012, -0.012, -0.012, -0.012, -0.012, -0.012, -0.012]\n",
      "3. [-0.012, -0.012, -0.032, -0.012, -0.012, -0.012, -0.012, -0.012, -0.012, -0.012, -0.012, -0.012, -0.012, -0.012, -0.012, -0.012, -0.012, -0.012, -0.012, -0.012]\n",
      "4. [-0.012, -0.012, -0.012, -0.032, -0.012, -0.012, -0.012, -0.012, -0.012, -0.012, -0.012, -0.012, -0.012, -0.012, -0.012, -0.012, -0.012, -0.012, -0.012, -0.012]\n",
      "5. [-0.012, -0.012, -0.012, -0.012, -0.032, -0.012, -0.012, -0.012, -0.012, -0.012, -0.012, -0.012, -0.012, -0.012, -0.012, -0.012, -0.012, -0.012, -0.012, -0.012]\n",
      "6. [-0.012, -0.012, -0.012, -0.012, -0.012, -0.032, -0.012, -0.012, -0.012, -0.012, -0.012, -0.012, -0.012, -0.012, -0.012, -0.012, -0.012, -0.012, -0.012, -0.012]\n",
      "7. [-0.012, -0.012, -0.012, -0.012, -0.012, -0.012, -0.032, -0.012, -0.012, -0.012, -0.012, -0.012, -0.012, -0.012, -0.012, -0.012, -0.012, -0.012, -0.012, -0.012]\n",
      "8. [-0.012, -0.012, -0.012, -0.012, -0.012, -0.012, -0.012, -0.032, -0.012, -0.012, -0.012, -0.012, -0.012, -0.012, -0.012, -0.012, -0.012, -0.012, -0.012, -0.012]\n",
      "9. [-0.012, -0.012, -0.012, -0.012, -0.012, -0.012, -0.012, -0.012, -0.032, -0.012, -0.012, -0.012, -0.012, -0.012, -0.012, -0.012, -0.012, -0.012, -0.012, -0.012]\n",
      "10. [-0.012, -0.012, -0.012, -0.012, -0.012, -0.012, -0.012, -0.012, -0.012, -0.032, -0.012, -0.012, -0.012, -0.012, -0.012, -0.012, -0.012, -0.012, -0.012, -0.012]\n",
      "11. [-0.012, -0.012, -0.012, -0.012, -0.012, -0.012, -0.012, -0.012, -0.012, -0.012, -0.032, -0.012, -0.012, -0.012, -0.012, -0.012, -0.012, -0.012, -0.012, -0.012]\n",
      "12. [-0.012, -0.012, -0.012, -0.012, -0.012, -0.012, -0.012, -0.012, -0.012, -0.012, -0.012, -0.032, -0.012, -0.012, -0.012, -0.012, -0.012, -0.012, -0.012, -0.012]\n",
      "13. [-0.012, -0.012, -0.012, -0.012, -0.012, -0.012, -0.012, -0.012, -0.012, -0.012, -0.012, -0.012, -0.032, -0.012, -0.012, -0.012, -0.012, -0.012, -0.012, -0.012]\n",
      "14. [-0.012, -0.012, -0.012, -0.012, -0.012, -0.012, -0.012, -0.012, -0.012, -0.012, -0.012, -0.012, -0.012, -0.032, -0.012, -0.012, -0.012, -0.012, -0.012, -0.012]\n",
      "15. [-0.012, -0.012, -0.012, -0.012, -0.012, -0.012, -0.012, -0.012, -0.012, -0.012, -0.012, -0.012, -0.012, -0.012, -0.032, -0.012, -0.012, -0.012, -0.012, -0.012]\n",
      "16. [-0.012, -0.012, -0.012, -0.012, -0.012, -0.012, -0.012, -0.012, -0.012, -0.012, -0.012, -0.012, -0.012, -0.012, -0.012, -0.032, -0.012, -0.012, -0.012, -0.012]\n",
      "17. [-0.012, -0.012, -0.012, -0.012, -0.012, -0.012, -0.012, -0.012, -0.012, -0.012, -0.012, -0.012, -0.012, -0.012, -0.012, -0.012, -0.032, -0.012, -0.012, -0.012]\n",
      "18. [-0.012, -0.012, -0.012, -0.012, -0.012, -0.012, -0.012, -0.012, -0.012, -0.012, -0.012, -0.012, -0.012, -0.012, -0.012, -0.012, -0.012, -0.032, -0.012, -0.012]\n",
      "19. [-0.012, -0.012, -0.012, -0.012, -0.012, -0.012, -0.012, -0.012, -0.012, -0.012, -0.012, -0.012, -0.012, -0.012, -0.012, -0.012, -0.012, -0.012, -0.032, -0.012]\n",
      "20. [-0.012, -0.012, -0.012, -0.012, -0.012, -0.012, -0.012, -0.012, -0.012, -0.012, -0.012, -0.012, -0.012, -0.012, -0.012, -0.012, -0.012, -0.012, -0.012, -0.032]\n"
     ]
    }
   ],
   "source": [
    "prompt = f\"\"\"\n",
    "Create 20 dimension embeddings using universal sentence encoder for that text. \n",
    "```{samsung_el_desc}```\n",
    "\"\"\"\n",
    "response_samsung_el_desc = get_completion(prompt)\n",
    "print(response_samsung_el_desc)"
   ]
  },
  {
   "cell_type": "code",
   "execution_count": 22,
   "metadata": {},
   "outputs": [
    {
     "name": "stdout",
     "output_type": "stream",
     "text": [
      "1. Innovation in technology\n",
      "2. Diverse business portfolio\n",
      "3. Advanced technology\n",
      "4. Semiconductors\n",
      "5. Skyscraper construction\n",
      "6. Plant construction\n",
      "7. Petrochemicals\n",
      "8. Fashion\n",
      "9. Medicine\n",
      "10. Finance\n",
      "11. Hotels\n",
      "12. Global market leader\n",
      "13. High-tech electronics manufacturing\n",
      "14. Digital media\n",
      "15. Reliable products\n",
      "16. Responsible approach to business\n",
      "17. Global citizenship\n",
      "18. Collaboration with partners\n",
      "19. Collaboration with customers\n",
      "20. Imaginative new directions.\n"
     ]
    }
   ],
   "source": [
    "prompt = f\"\"\"\n",
    "Create 20 dimension embeddings using universal sentence encoder for that text. \n",
    "```{samsung_el_usa_desc}```\n",
    "\"\"\"\n",
    "response_samsung_el_usa_desc = get_completion(prompt)\n",
    "print(response_samsung_el_usa_desc)"
   ]
  },
  {
   "cell_type": "code",
   "execution_count": 20,
   "metadata": {},
   "outputs": [
    {
     "name": "stdout",
     "output_type": "stream",
     "text": [
      "1. Sportswear\n",
      "2. Footwear\n",
      "3. Apparel\n",
      "4. Equipment\n",
      "5. Accessories\n",
      "6. Marketing\n",
      "7. Distribution\n",
      "8. North America\n",
      "9. Europe\n",
      "10. Middle East\n",
      "11. Africa\n",
      "12. Greater China\n",
      "13. Asia Pacific\n",
      "14. Latin America\n",
      "15. Subsidiaries\n",
      "16. Converse\n",
      "17. Casual footwear\n",
      "18. Bill Bowerman\n",
      "19. Phil Knight\n",
      "20. Headquarters\n"
     ]
    }
   ],
   "source": [
    "prompt = f\"\"\"\n",
    "Create 20 dimension embeddings using universal sentence encoder for that text. \n",
    "```{text_nike_desc}```\n",
    "\"\"\"\n",
    "response_text_nike_desc = get_completion(prompt)\n",
    "print(response_text_nike_desc)"
   ]
  },
  {
   "cell_type": "code",
   "execution_count": 21,
   "metadata": {},
   "outputs": [
    {
     "name": "stdout",
     "output_type": "stream",
     "text": [
      "I'm sorry, but I cannot create a cosine similarity matrix on these embeddings as they are not in a proper format. The embeddings should be in a matrix or a list of vectors, and the second list should contain the names or labels of the embeddings. Please provide the embeddings in a proper format.\n"
     ]
    }
   ],
   "source": [
    "prompt = f\"\"\"\n",
    "Create coisine similarity matrix on these embedings. \n",
    "```{[response_samsung_el_desc, response_samsung_el_usa_desc, response_text_nike_desc]}```\n",
    "\"\"\"\n",
    "response_text_nike_desc = get_completion(prompt)\n",
    "print(response_text_nike_desc)"
   ]
  },
  {
   "cell_type": "code",
   "execution_count": null,
   "metadata": {},
   "outputs": [],
   "source": []
  }
 ],
 "metadata": {
  "kernelspec": {
   "display_name": "py38forecasting",
   "language": "python",
   "name": "python3"
  },
  "language_info": {
   "codemirror_mode": {
    "name": "ipython",
    "version": 3
   },
   "file_extension": ".py",
   "mimetype": "text/x-python",
   "name": "python",
   "nbconvert_exporter": "python",
   "pygments_lexer": "ipython3",
   "version": "3.8.16"
  },
  "orig_nbformat": 4
 },
 "nbformat": 4,
 "nbformat_minor": 2
}
